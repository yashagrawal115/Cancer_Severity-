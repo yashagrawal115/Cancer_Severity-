{
 "cells": [
  {
   "cell_type": "markdown",
   "metadata": {},
   "source": [
    "## ML Problem\n",
    "### Dataset Description:\n",
    "\n",
    "\n",
    "Mammography is the most effective method for breast cancer screening available today. However, the low\n",
    "positive predictive value of breast biopsy resulting from mammogram interpretation leads to approximately\n",
    "70% unnecessary biopsies with benign outcomes. To reduce the high number of unnecessary breast biopsies,\n",
    "several computer-aided diagnoses (CAD) systems have been proposed in the last years. These systems help\n",
    "physicians in their decision to perform a breast biopsy on a suspicious lesion seen in a mammogram or to\n",
    "perform a short-term follow-up examination instead.\n",
    "This data set can be used to predict the severity (benign or malignant) of a mammographic mass lesion from\n",
    "BI-RADS attributes and the patient's age. It contains a BI-RADS assessment, the patient's age and three BI-\n",
    "RADS attributes together with the ground truth (the severity field).\n",
    "\n",
    "\n",
    "### Attribute Information:\n",
    "1. BI-RADS assessment: 1 to 5 (ordinal, non-predictive!)\n",
    "2. Age: patient's age in years (integer)\n",
    "3. Shape: mass shape: round=1 oval=2 lobular=3 irregular=4 (nominal)\n",
    "4. Margin: mass margin: circumscribed=1 microlobulated=2 obscured=3 ill-defined=4 spiculated=5 (nominal)\n",
    "5. Density: mass density high=1 iso=2 low=3 fat-containing=4 (ordinal)\n",
    "6. Severity: benign=0 or malignant=1 (binominal, goal field!)\n",
    "\n",
    "\n",
    "\n",
    "### Pre-requisite: Python environment setup for Jupyter notebook is mandatory.\n",
    "#### Instructions:\n",
    "    a. You can use any libraries of your choice in python.\n",
    "    b. Provide the code in a notebook with the format Your_Name.ipynb\n",
    "    c. The notebook should run without errors and should also display outputs and\n",
    "visualizations.\n",
    "####  Evaluation Task:\n",
    "Download the dataset from attached file and perform the following tasks:\n",
    "1. Build Statistical Classification model to detect severity\n",
    "2. What considerations have been used for model selection?\n",
    "3. What features would you want to create for your prediction model based on data provided?\n",
    "4. How have you performed hyper-parameter tuning and model optimization? What are the reasons for your decision choices for these steps?\n",
    "5. What is your model evaluation criteria? What are the assumptions and limitations of your approach?\n",
    "6. Determine whether the data is normally distributed visually and statistically.\n",
    "7. Comment on EDA of variables in data.\n",
    "8. How are you detecting and treating outliers in the dataset for better convergence?\n",
    "9. What techniques have been used for treating missing values to prepare features for model building?\n",
    "10. What is the distribution of target with respect to categorical columns?\n",
    "11. Comment on any other observations or recommendations based on your analysis."
   ]
  },
  {
   "cell_type": "markdown",
   "metadata": {},
   "source": [
    "## EDA\n",
    "\n",
    "\n",
    "#### Import important libaries"
   ]
  },
  {
   "cell_type": "code",
   "execution_count": 1,
   "metadata": {},
   "outputs": [],
   "source": [
    "import pandas as pd\n",
    "import numpy as np\n",
    "import matplotlib.pyplot as plt\n",
    "import seaborn as sns\n",
    "import copy\n",
    "from sklearn.model_selection import KFold\n",
    "from sklearn.ensemble import RandomForestClassifier\n",
    "from sklearn.model_selection import cross_val_score"
   ]
  },
  {
   "cell_type": "markdown",
   "metadata": {},
   "source": [
    "#### Path of the Train & Test Data"
   ]
  },
  {
   "cell_type": "markdown",
   "metadata": {},
   "source": [
    "### *********** NOTE : Please change the path of the model of the training and testing file. ***********"
   ]
  },
  {
   "cell_type": "code",
   "execution_count": 2,
   "metadata": {},
   "outputs": [],
   "source": [
    "TRAIN_PATH = '/home/FedEx_DS_CaseStudy/ML problem/Train.xlsx'\n",
    "TESTING_PATH = '/home/FedEx_DS_CaseStudy/ML problem/Test.xlsx'"
   ]
  },
  {
   "cell_type": "markdown",
   "metadata": {},
   "source": [
    "#### Read DataFrame"
   ]
  },
  {
   "cell_type": "code",
   "execution_count": 3,
   "metadata": {},
   "outputs": [],
   "source": [
    "df_ml = pd.read_excel(TRAIN_PATH)"
   ]
  },
  {
   "cell_type": "code",
   "execution_count": 4,
   "metadata": {},
   "outputs": [
    {
     "data": {
      "text/html": [
       "<div>\n",
       "<style scoped>\n",
       "    .dataframe tbody tr th:only-of-type {\n",
       "        vertical-align: middle;\n",
       "    }\n",
       "\n",
       "    .dataframe tbody tr th {\n",
       "        vertical-align: top;\n",
       "    }\n",
       "\n",
       "    .dataframe thead th {\n",
       "        text-align: right;\n",
       "    }\n",
       "</style>\n",
       "<table border=\"1\" class=\"dataframe\">\n",
       "  <thead>\n",
       "    <tr style=\"text-align: right;\">\n",
       "      <th></th>\n",
       "      <th>Index</th>\n",
       "      <th>BI_RADS</th>\n",
       "      <th>Age</th>\n",
       "      <th>Shape</th>\n",
       "      <th>Margin</th>\n",
       "      <th>Mass_Density</th>\n",
       "      <th>Severity</th>\n",
       "    </tr>\n",
       "  </thead>\n",
       "  <tbody>\n",
       "    <tr>\n",
       "      <th>0</th>\n",
       "      <td>1</td>\n",
       "      <td>5.0</td>\n",
       "      <td>67.0</td>\n",
       "      <td>lobular</td>\n",
       "      <td>spiculated</td>\n",
       "      <td>low</td>\n",
       "      <td>1</td>\n",
       "    </tr>\n",
       "    <tr>\n",
       "      <th>1</th>\n",
       "      <td>2</td>\n",
       "      <td>4.0</td>\n",
       "      <td>43.0</td>\n",
       "      <td>round</td>\n",
       "      <td>circumscribed</td>\n",
       "      <td>NaN</td>\n",
       "      <td>1</td>\n",
       "    </tr>\n",
       "    <tr>\n",
       "      <th>2</th>\n",
       "      <td>3</td>\n",
       "      <td>5.0</td>\n",
       "      <td>58.0</td>\n",
       "      <td>irregular</td>\n",
       "      <td>spiculated</td>\n",
       "      <td>low</td>\n",
       "      <td>1</td>\n",
       "    </tr>\n",
       "    <tr>\n",
       "      <th>3</th>\n",
       "      <td>4</td>\n",
       "      <td>4.0</td>\n",
       "      <td>28.0</td>\n",
       "      <td>round</td>\n",
       "      <td>circumscribed</td>\n",
       "      <td>low</td>\n",
       "      <td>0</td>\n",
       "    </tr>\n",
       "    <tr>\n",
       "      <th>4</th>\n",
       "      <td>5</td>\n",
       "      <td>5.0</td>\n",
       "      <td>74.0</td>\n",
       "      <td>round</td>\n",
       "      <td>spiculated</td>\n",
       "      <td>NaN</td>\n",
       "      <td>1</td>\n",
       "    </tr>\n",
       "    <tr>\n",
       "      <th>...</th>\n",
       "      <td>...</td>\n",
       "      <td>...</td>\n",
       "      <td>...</td>\n",
       "      <td>...</td>\n",
       "      <td>...</td>\n",
       "      <td>...</td>\n",
       "      <td>...</td>\n",
       "    </tr>\n",
       "    <tr>\n",
       "      <th>806</th>\n",
       "      <td>807</td>\n",
       "      <td>5.0</td>\n",
       "      <td>62.0</td>\n",
       "      <td>irregular</td>\n",
       "      <td>ill-defined</td>\n",
       "      <td>iso</td>\n",
       "      <td>1</td>\n",
       "    </tr>\n",
       "    <tr>\n",
       "      <th>807</th>\n",
       "      <td>808</td>\n",
       "      <td>4.0</td>\n",
       "      <td>56.0</td>\n",
       "      <td>oval</td>\n",
       "      <td>circumscribed</td>\n",
       "      <td>low</td>\n",
       "      <td>0</td>\n",
       "    </tr>\n",
       "    <tr>\n",
       "      <th>808</th>\n",
       "      <td>809</td>\n",
       "      <td>5.0</td>\n",
       "      <td>58.0</td>\n",
       "      <td>irregular</td>\n",
       "      <td>ill-defined</td>\n",
       "      <td>low</td>\n",
       "      <td>1</td>\n",
       "    </tr>\n",
       "    <tr>\n",
       "      <th>809</th>\n",
       "      <td>810</td>\n",
       "      <td>4.0</td>\n",
       "      <td>NaN</td>\n",
       "      <td>round</td>\n",
       "      <td>ill-defined</td>\n",
       "      <td>low</td>\n",
       "      <td>0</td>\n",
       "    </tr>\n",
       "    <tr>\n",
       "      <th>810</th>\n",
       "      <td>811</td>\n",
       "      <td>5.0</td>\n",
       "      <td>75.0</td>\n",
       "      <td>irregular</td>\n",
       "      <td>spiculated</td>\n",
       "      <td>low</td>\n",
       "      <td>1</td>\n",
       "    </tr>\n",
       "  </tbody>\n",
       "</table>\n",
       "<p>811 rows × 7 columns</p>\n",
       "</div>"
      ],
      "text/plain": [
       "     Index  BI_RADS   Age      Shape         Margin Mass_Density  Severity\n",
       "0        1      5.0  67.0    lobular     spiculated          low         1\n",
       "1        2      4.0  43.0      round  circumscribed          NaN         1\n",
       "2        3      5.0  58.0  irregular     spiculated          low         1\n",
       "3        4      4.0  28.0      round  circumscribed          low         0\n",
       "4        5      5.0  74.0      round     spiculated          NaN         1\n",
       "..     ...      ...   ...        ...            ...          ...       ...\n",
       "806    807      5.0  62.0  irregular    ill-defined          iso         1\n",
       "807    808      4.0  56.0       oval  circumscribed          low         0\n",
       "808    809      5.0  58.0  irregular    ill-defined          low         1\n",
       "809    810      4.0   NaN      round    ill-defined          low         0\n",
       "810    811      5.0  75.0  irregular     spiculated          low         1\n",
       "\n",
       "[811 rows x 7 columns]"
      ]
     },
     "execution_count": 4,
     "metadata": {},
     "output_type": "execute_result"
    }
   ],
   "source": [
    "df_ml"
   ]
  },
  {
   "cell_type": "markdown",
   "metadata": {},
   "source": [
    "#### Understand the Data Type and null value estimation."
   ]
  },
  {
   "cell_type": "code",
   "execution_count": 5,
   "metadata": {},
   "outputs": [
    {
     "name": "stdout",
     "output_type": "stream",
     "text": [
      "<class 'pandas.core.frame.DataFrame'>\n",
      "RangeIndex: 811 entries, 0 to 810\n",
      "Data columns (total 7 columns):\n",
      " #   Column        Non-Null Count  Dtype  \n",
      "---  ------        --------------  -----  \n",
      " 0   Index         811 non-null    int64  \n",
      " 1   BI_RADS       809 non-null    float64\n",
      " 2   Age           723 non-null    float64\n",
      " 3   Shape         781 non-null    object \n",
      " 4   Margin        764 non-null    object \n",
      " 5   Mass_Density  735 non-null    object \n",
      " 6   Severity      811 non-null    int64  \n",
      "dtypes: float64(2), int64(2), object(3)\n",
      "memory usage: 44.5+ KB\n"
     ]
    }
   ],
   "source": [
    "df_ml.info()"
   ]
  },
  {
   "cell_type": "markdown",
   "metadata": {},
   "source": [
    "#### Feature Distribution and reach of feature"
   ]
  },
  {
   "cell_type": "code",
   "execution_count": 6,
   "metadata": {},
   "outputs": [
    {
     "data": {
      "text/html": [
       "<div>\n",
       "<style scoped>\n",
       "    .dataframe tbody tr th:only-of-type {\n",
       "        vertical-align: middle;\n",
       "    }\n",
       "\n",
       "    .dataframe tbody tr th {\n",
       "        vertical-align: top;\n",
       "    }\n",
       "\n",
       "    .dataframe thead th {\n",
       "        text-align: right;\n",
       "    }\n",
       "</style>\n",
       "<table border=\"1\" class=\"dataframe\">\n",
       "  <thead>\n",
       "    <tr style=\"text-align: right;\">\n",
       "      <th></th>\n",
       "      <th>Index</th>\n",
       "      <th>BI_RADS</th>\n",
       "      <th>Age</th>\n",
       "      <th>Severity</th>\n",
       "    </tr>\n",
       "  </thead>\n",
       "  <tbody>\n",
       "    <tr>\n",
       "      <th>count</th>\n",
       "      <td>811.000000</td>\n",
       "      <td>809.000000</td>\n",
       "      <td>723.000000</td>\n",
       "      <td>811.000000</td>\n",
       "    </tr>\n",
       "    <tr>\n",
       "      <th>mean</th>\n",
       "      <td>406.000000</td>\n",
       "      <td>4.379481</td>\n",
       "      <td>55.887967</td>\n",
       "      <td>0.459926</td>\n",
       "    </tr>\n",
       "    <tr>\n",
       "      <th>std</th>\n",
       "      <td>234.259827</td>\n",
       "      <td>1.914800</td>\n",
       "      <td>16.886616</td>\n",
       "      <td>0.498699</td>\n",
       "    </tr>\n",
       "    <tr>\n",
       "      <th>min</th>\n",
       "      <td>1.000000</td>\n",
       "      <td>0.000000</td>\n",
       "      <td>5.000000</td>\n",
       "      <td>0.000000</td>\n",
       "    </tr>\n",
       "    <tr>\n",
       "      <th>25%</th>\n",
       "      <td>203.500000</td>\n",
       "      <td>4.000000</td>\n",
       "      <td>45.000000</td>\n",
       "      <td>0.000000</td>\n",
       "    </tr>\n",
       "    <tr>\n",
       "      <th>50%</th>\n",
       "      <td>406.000000</td>\n",
       "      <td>4.000000</td>\n",
       "      <td>56.000000</td>\n",
       "      <td>0.000000</td>\n",
       "    </tr>\n",
       "    <tr>\n",
       "      <th>75%</th>\n",
       "      <td>608.500000</td>\n",
       "      <td>5.000000</td>\n",
       "      <td>66.000000</td>\n",
       "      <td>1.000000</td>\n",
       "    </tr>\n",
       "    <tr>\n",
       "      <th>max</th>\n",
       "      <td>811.000000</td>\n",
       "      <td>55.000000</td>\n",
       "      <td>130.000000</td>\n",
       "      <td>1.000000</td>\n",
       "    </tr>\n",
       "  </tbody>\n",
       "</table>\n",
       "</div>"
      ],
      "text/plain": [
       "            Index     BI_RADS         Age    Severity\n",
       "count  811.000000  809.000000  723.000000  811.000000\n",
       "mean   406.000000    4.379481   55.887967    0.459926\n",
       "std    234.259827    1.914800   16.886616    0.498699\n",
       "min      1.000000    0.000000    5.000000    0.000000\n",
       "25%    203.500000    4.000000   45.000000    0.000000\n",
       "50%    406.000000    4.000000   56.000000    0.000000\n",
       "75%    608.500000    5.000000   66.000000    1.000000\n",
       "max    811.000000   55.000000  130.000000    1.000000"
      ]
     },
     "execution_count": 6,
     "metadata": {},
     "output_type": "execute_result"
    }
   ],
   "source": [
    "df_ml.describe()"
   ]
  },
  {
   "cell_type": "markdown",
   "metadata": {},
   "source": [
    "####  Feature 1 :  BI_RADS"
   ]
  },
  {
   "cell_type": "code",
   "execution_count": 7,
   "metadata": {},
   "outputs": [
    {
     "data": {
      "text/plain": [
       "Text(0, 0.5, 'Frequency')"
      ]
     },
     "execution_count": 7,
     "metadata": {},
     "output_type": "execute_result"
    },
    {
     "data": {
      "image/png": "[encoded data removed]",
      "text/plain": [
       "<Figure size 1008x576 with 1 Axes>"
      ]
     },
     "metadata": {
      "needs_background": "light"
     },
     "output_type": "display_data"
    }
   ],
   "source": [
    "ax_1 = df_ml['BI_RADS'].value_counts().plot(kind='bar',figsize=(14,8),title=\"Feature 1 :  BI_RADS\")\n",
    "ax_1.set_xlabel(\"BI_RADS\")\n",
    "ax_1.set_ylabel(\"Frequency\")"
   ]
  },
  {
   "cell_type": "code",
   "execution_count": 8,
   "metadata": {},
   "outputs": [
    {
     "data": {
      "text/plain": [
       "Text(0, 0.5, 'Frequency')"
      ]
     },
     "execution_count": 8,
     "metadata": {},
     "output_type": "execute_result"
    },
    {
     "data": {
      "image/png": "[encoded data removed]",
      "text/plain": [
       "<Figure size 1008x576 with 1 Axes>"
      ]
     },
     "metadata": {
      "needs_background": "light"
     },
     "output_type": "display_data"
    }
   ],
   "source": [
    "ax_1 = df_ml['BI_RADS'].value_counts().plot(kind='kde',figsize=(14,8),title=\"Feature 1 :  BI_RADS\")\n",
    "ax_1.set_xlabel(\"BI_RADS\")\n",
    "ax_1.set_ylabel(\"Frequency\")"
   ]
  },
  {
   "cell_type": "code",
   "execution_count": 9,
   "metadata": {},
   "outputs": [
    {
     "data": {
      "text/plain": [
       "4.0     438\n",
       "5.0     312\n",
       "3.0      34\n",
       "2.0      13\n",
       "6.0       8\n",
       "0.0       3\n",
       "55.0      1\n",
       "Name: BI_RADS, dtype: int64"
      ]
     },
     "execution_count": 9,
     "metadata": {},
     "output_type": "execute_result"
    }
   ],
   "source": [
    "ax_1 = df_ml['BI_RADS'].value_counts()\n",
    "ax_1"
   ]
  },
  {
   "cell_type": "code",
   "execution_count": 10,
   "metadata": {},
   "outputs": [
    {
     "data": {
      "text/html": [
       "<div>\n",
       "<style scoped>\n",
       "    .dataframe tbody tr th:only-of-type {\n",
       "        vertical-align: middle;\n",
       "    }\n",
       "\n",
       "    .dataframe tbody tr th {\n",
       "        vertical-align: top;\n",
       "    }\n",
       "\n",
       "    .dataframe thead th {\n",
       "        text-align: right;\n",
       "    }\n",
       "</style>\n",
       "<table border=\"1\" class=\"dataframe\">\n",
       "  <thead>\n",
       "    <tr style=\"text-align: right;\">\n",
       "      <th></th>\n",
       "      <th>Index</th>\n",
       "      <th>BI_RADS</th>\n",
       "      <th>Age</th>\n",
       "      <th>Shape</th>\n",
       "      <th>Margin</th>\n",
       "      <th>Mass_Density</th>\n",
       "      <th>Severity</th>\n",
       "    </tr>\n",
       "  </thead>\n",
       "  <tbody>\n",
       "    <tr>\n",
       "      <th>0</th>\n",
       "      <td>1</td>\n",
       "      <td>5.0</td>\n",
       "      <td>67.0</td>\n",
       "      <td>lobular</td>\n",
       "      <td>spiculated</td>\n",
       "      <td>low</td>\n",
       "      <td>1</td>\n",
       "    </tr>\n",
       "    <tr>\n",
       "      <th>1</th>\n",
       "      <td>2</td>\n",
       "      <td>4.0</td>\n",
       "      <td>43.0</td>\n",
       "      <td>round</td>\n",
       "      <td>circumscribed</td>\n",
       "      <td>NaN</td>\n",
       "      <td>1</td>\n",
       "    </tr>\n",
       "    <tr>\n",
       "      <th>2</th>\n",
       "      <td>3</td>\n",
       "      <td>5.0</td>\n",
       "      <td>58.0</td>\n",
       "      <td>irregular</td>\n",
       "      <td>spiculated</td>\n",
       "      <td>low</td>\n",
       "      <td>1</td>\n",
       "    </tr>\n",
       "    <tr>\n",
       "      <th>3</th>\n",
       "      <td>4</td>\n",
       "      <td>4.0</td>\n",
       "      <td>28.0</td>\n",
       "      <td>round</td>\n",
       "      <td>circumscribed</td>\n",
       "      <td>low</td>\n",
       "      <td>0</td>\n",
       "    </tr>\n",
       "    <tr>\n",
       "      <th>4</th>\n",
       "      <td>5</td>\n",
       "      <td>5.0</td>\n",
       "      <td>74.0</td>\n",
       "      <td>round</td>\n",
       "      <td>spiculated</td>\n",
       "      <td>NaN</td>\n",
       "      <td>1</td>\n",
       "    </tr>\n",
       "    <tr>\n",
       "      <th>...</th>\n",
       "      <td>...</td>\n",
       "      <td>...</td>\n",
       "      <td>...</td>\n",
       "      <td>...</td>\n",
       "      <td>...</td>\n",
       "      <td>...</td>\n",
       "      <td>...</td>\n",
       "    </tr>\n",
       "    <tr>\n",
       "      <th>806</th>\n",
       "      <td>807</td>\n",
       "      <td>5.0</td>\n",
       "      <td>62.0</td>\n",
       "      <td>irregular</td>\n",
       "      <td>ill-defined</td>\n",
       "      <td>iso</td>\n",
       "      <td>1</td>\n",
       "    </tr>\n",
       "    <tr>\n",
       "      <th>807</th>\n",
       "      <td>808</td>\n",
       "      <td>4.0</td>\n",
       "      <td>56.0</td>\n",
       "      <td>oval</td>\n",
       "      <td>circumscribed</td>\n",
       "      <td>low</td>\n",
       "      <td>0</td>\n",
       "    </tr>\n",
       "    <tr>\n",
       "      <th>808</th>\n",
       "      <td>809</td>\n",
       "      <td>5.0</td>\n",
       "      <td>58.0</td>\n",
       "      <td>irregular</td>\n",
       "      <td>ill-defined</td>\n",
       "      <td>low</td>\n",
       "      <td>1</td>\n",
       "    </tr>\n",
       "    <tr>\n",
       "      <th>809</th>\n",
       "      <td>810</td>\n",
       "      <td>4.0</td>\n",
       "      <td>NaN</td>\n",
       "      <td>round</td>\n",
       "      <td>ill-defined</td>\n",
       "      <td>low</td>\n",
       "      <td>0</td>\n",
       "    </tr>\n",
       "    <tr>\n",
       "      <th>810</th>\n",
       "      <td>811</td>\n",
       "      <td>5.0</td>\n",
       "      <td>75.0</td>\n",
       "      <td>irregular</td>\n",
       "      <td>spiculated</td>\n",
       "      <td>low</td>\n",
       "      <td>1</td>\n",
       "    </tr>\n",
       "  </tbody>\n",
       "</table>\n",
       "<p>797 rows × 7 columns</p>\n",
       "</div>"
      ],
      "text/plain": [
       "     Index  BI_RADS   Age      Shape         Margin Mass_Density  Severity\n",
       "0        1      5.0  67.0    lobular     spiculated          low         1\n",
       "1        2      4.0  43.0      round  circumscribed          NaN         1\n",
       "2        3      5.0  58.0  irregular     spiculated          low         1\n",
       "3        4      4.0  28.0      round  circumscribed          low         0\n",
       "4        5      5.0  74.0      round     spiculated          NaN         1\n",
       "..     ...      ...   ...        ...            ...          ...       ...\n",
       "806    807      5.0  62.0  irregular    ill-defined          iso         1\n",
       "807    808      4.0  56.0       oval  circumscribed          low         0\n",
       "808    809      5.0  58.0  irregular    ill-defined          low         1\n",
       "809    810      4.0   NaN      round    ill-defined          low         0\n",
       "810    811      5.0  75.0  irregular     spiculated          low         1\n",
       "\n",
       "[797 rows x 7 columns]"
      ]
     },
     "execution_count": 10,
     "metadata": {},
     "output_type": "execute_result"
    }
   ],
   "source": [
    "df_ml = df_ml.loc[(df_ml['BI_RADS'] > 0) & (df_ml['BI_RADS'] <6)]\n",
    "df_ml"
   ]
  },
  {
   "cell_type": "markdown",
   "metadata": {},
   "source": [
    "#### As mentioned, we need just relavent data and remove outliers which leads to loss of 1.5% data loss. \n"
   ]
  },
  {
   "cell_type": "code",
   "execution_count": 11,
   "metadata": {},
   "outputs": [
    {
     "name": "stderr",
     "output_type": "stream",
     "text": [
      "<ipython-input-11-4a6701409ca9>:1: SettingWithCopyWarning: \n",
      "A value is trying to be set on a copy of a slice from a DataFrame.\n",
      "Try using .loc[row_indexer,col_indexer] = value instead\n",
      "\n",
      "See the caveats in the documentation: https://pandas.pydata.org/pandas-docs/stable/user_guide/indexing.html#returning-a-view-versus-a-copy\n",
      "  df_ml['BI_RADS']= df_ml['BI_RADS'].fillna(method ='ffill')\n"
     ]
    }
   ],
   "source": [
    "df_ml['BI_RADS']= df_ml['BI_RADS'].fillna(method ='ffill')"
   ]
  },
  {
   "cell_type": "code",
   "execution_count": 12,
   "metadata": {},
   "outputs": [
    {
     "data": {
      "text/html": [
       "<div>\n",
       "<style scoped>\n",
       "    .dataframe tbody tr th:only-of-type {\n",
       "        vertical-align: middle;\n",
       "    }\n",
       "\n",
       "    .dataframe tbody tr th {\n",
       "        vertical-align: top;\n",
       "    }\n",
       "\n",
       "    .dataframe thead th {\n",
       "        text-align: right;\n",
       "    }\n",
       "</style>\n",
       "<table border=\"1\" class=\"dataframe\">\n",
       "  <thead>\n",
       "    <tr style=\"text-align: right;\">\n",
       "      <th></th>\n",
       "      <th>Index</th>\n",
       "      <th>BI_RADS</th>\n",
       "      <th>Age</th>\n",
       "      <th>Severity</th>\n",
       "    </tr>\n",
       "  </thead>\n",
       "  <tbody>\n",
       "    <tr>\n",
       "      <th>count</th>\n",
       "      <td>797.000000</td>\n",
       "      <td>797.000000</td>\n",
       "      <td>710.000000</td>\n",
       "      <td>797.000000</td>\n",
       "    </tr>\n",
       "    <tr>\n",
       "      <th>mean</th>\n",
       "      <td>403.160602</td>\n",
       "      <td>4.316186</td>\n",
       "      <td>55.763380</td>\n",
       "      <td>0.456713</td>\n",
       "    </tr>\n",
       "    <tr>\n",
       "      <th>std</th>\n",
       "      <td>233.400607</td>\n",
       "      <td>0.632377</td>\n",
       "      <td>16.943957</td>\n",
       "      <td>0.498435</td>\n",
       "    </tr>\n",
       "    <tr>\n",
       "      <th>min</th>\n",
       "      <td>1.000000</td>\n",
       "      <td>2.000000</td>\n",
       "      <td>5.000000</td>\n",
       "      <td>0.000000</td>\n",
       "    </tr>\n",
       "    <tr>\n",
       "      <th>25%</th>\n",
       "      <td>201.000000</td>\n",
       "      <td>4.000000</td>\n",
       "      <td>45.000000</td>\n",
       "      <td>0.000000</td>\n",
       "    </tr>\n",
       "    <tr>\n",
       "      <th>50%</th>\n",
       "      <td>402.000000</td>\n",
       "      <td>4.000000</td>\n",
       "      <td>56.000000</td>\n",
       "      <td>0.000000</td>\n",
       "    </tr>\n",
       "    <tr>\n",
       "      <th>75%</th>\n",
       "      <td>604.000000</td>\n",
       "      <td>5.000000</td>\n",
       "      <td>66.000000</td>\n",
       "      <td>1.000000</td>\n",
       "    </tr>\n",
       "    <tr>\n",
       "      <th>max</th>\n",
       "      <td>811.000000</td>\n",
       "      <td>5.000000</td>\n",
       "      <td>130.000000</td>\n",
       "      <td>1.000000</td>\n",
       "    </tr>\n",
       "  </tbody>\n",
       "</table>\n",
       "</div>"
      ],
      "text/plain": [
       "            Index     BI_RADS         Age    Severity\n",
       "count  797.000000  797.000000  710.000000  797.000000\n",
       "mean   403.160602    4.316186   55.763380    0.456713\n",
       "std    233.400607    0.632377   16.943957    0.498435\n",
       "min      1.000000    2.000000    5.000000    0.000000\n",
       "25%    201.000000    4.000000   45.000000    0.000000\n",
       "50%    402.000000    4.000000   56.000000    0.000000\n",
       "75%    604.000000    5.000000   66.000000    1.000000\n",
       "max    811.000000    5.000000  130.000000    1.000000"
      ]
     },
     "execution_count": 12,
     "metadata": {},
     "output_type": "execute_result"
    }
   ],
   "source": [
    "df_ml.describe()"
   ]
  },
  {
   "cell_type": "markdown",
   "metadata": {},
   "source": [
    "#### Feature 2: Age"
   ]
  },
  {
   "cell_type": "code",
   "execution_count": 13,
   "metadata": {},
   "outputs": [
    {
     "data": {
      "text/plain": [
       "Text(0, 0.5, 'Frequency')"
      ]
     },
     "execution_count": 13,
     "metadata": {},
     "output_type": "execute_result"
    },
    {
     "data": {
      "image/png": "[encoded data removed]",
      "text/plain": [
       "<Figure size 1008x576 with 1 Axes>"
      ]
     },
     "metadata": {
      "needs_background": "light"
     },
     "output_type": "display_data"
    }
   ],
   "source": [
    "ax_2 = df_ml['Age'].value_counts().plot(kind='bar',figsize=(14,8),title=\"Feature 2: Age\")\n",
    "ax_2.set_xlabel(\"Age\")\n",
    "ax_2.set_ylabel(\"Frequency\")"
   ]
  },
  {
   "cell_type": "code",
   "execution_count": 14,
   "metadata": {},
   "outputs": [
    {
     "data": {
      "text/plain": [
       "0.6527978520214929"
      ]
     },
     "execution_count": 14,
     "metadata": {},
     "output_type": "execute_result"
    }
   ],
   "source": [
    "df_ml['Age'].skew()"
   ]
  },
  {
   "cell_type": "code",
   "execution_count": 15,
   "metadata": {},
   "outputs": [
    {
     "name": "stderr",
     "output_type": "stream",
     "text": [
      "<ipython-input-15-61d779bc57b7>:1: SettingWithCopyWarning: \n",
      "A value is trying to be set on a copy of a slice from a DataFrame.\n",
      "Try using .loc[row_indexer,col_indexer] = value instead\n",
      "\n",
      "See the caveats in the documentation: https://pandas.pydata.org/pandas-docs/stable/user_guide/indexing.html#returning-a-view-versus-a-copy\n",
      "  df_ml['Age']= df_ml['Age'].fillna(method ='ffill')\n"
     ]
    }
   ],
   "source": [
    "df_ml['Age']= df_ml['Age'].fillna(method ='ffill')"
   ]
  },
  {
   "cell_type": "code",
   "execution_count": 16,
   "metadata": {},
   "outputs": [
    {
     "name": "stderr",
     "output_type": "stream",
     "text": [
      "<ipython-input-16-62b2ca73015d>:1: SettingWithCopyWarning: \n",
      "A value is trying to be set on a copy of a slice from a DataFrame.\n",
      "Try using .loc[row_indexer,col_indexer] = value instead\n",
      "\n",
      "See the caveats in the documentation: https://pandas.pydata.org/pandas-docs/stable/user_guide/indexing.html#returning-a-view-versus-a-copy\n",
      "  df_ml['Age'] = df_ml['Age'].apply(lambda x: 'Youth' if x<=30 else ('Senior_Citizen' if x > 65 else ('Younger_adult' if x > 30 and x <= 40 else ('Adult' if x > 40 and x <= 50 else 'Older_adult'))))\n"
     ]
    },
    {
     "data": {
      "text/plain": [
       "0      Senior_Citizen\n",
       "1               Adult\n",
       "2         Older_adult\n",
       "3               Youth\n",
       "4      Senior_Citizen\n",
       "            ...      \n",
       "806       Older_adult\n",
       "807       Older_adult\n",
       "808       Older_adult\n",
       "809       Older_adult\n",
       "810    Senior_Citizen\n",
       "Name: Age, Length: 797, dtype: object"
      ]
     },
     "execution_count": 16,
     "metadata": {},
     "output_type": "execute_result"
    }
   ],
   "source": [
    "df_ml['Age'] = df_ml['Age'].apply(lambda x: 'Youth' if x<=30 else ('Senior_Citizen' if x > 65 else ('Younger_adult' if x > 30 and x <= 40 else ('Adult' if x > 40 and x <= 50 else 'Older_adult'))))\n",
    "\n",
    "df_ml['Age']\n"
   ]
  },
  {
   "cell_type": "code",
   "execution_count": 58,
   "metadata": {},
   "outputs": [
    {
     "data": {
      "text/plain": [
       "Text(0, 0.5, 'Frequency')"
      ]
     },
     "execution_count": 58,
     "metadata": {},
     "output_type": "execute_result"
    },
    {
     "data": {
      "image/png": "[encoded data removed]",
      "text/plain": [
       "<Figure size 1008x576 with 1 Axes>"
      ]
     },
     "metadata": {
      "needs_background": "light"
     },
     "output_type": "display_data"
    }
   ],
   "source": [
    "ax_2 = df_ml['Age'].value_counts().plot(kind='bar',figsize=(14,8),title=\"Feature 3: Age\")\n",
    "ax_2.set_xlabel(\"Age\")\n",
    "ax_2.set_ylabel(\"Frequency\")"
   ]
  },
  {
   "cell_type": "code",
   "execution_count": 59,
   "metadata": {},
   "outputs": [
    {
     "data": {
      "text/plain": [
       "Text(0, 0.5, 'Frequency')"
      ]
     },
     "execution_count": 59,
     "metadata": {},
     "output_type": "execute_result"
    },
    {
     "data": {
      "image/png": "[encoded data removed]",
      "text/plain": [
       "<Figure size 1008x576 with 1 Axes>"
      ]
     },
     "metadata": {
      "needs_background": "light"
     },
     "output_type": "display_data"
    }
   ],
   "source": [
    "ax_2 = df_ml['Age'].value_counts().plot(kind='kde',figsize=(14,8),title=\"Feature 3: Age\")\n",
    "ax_2.set_xlabel(\"Age\")\n",
    "ax_2.set_ylabel(\"Frequency\")"
   ]
  },
  {
   "cell_type": "markdown",
   "metadata": {},
   "source": [
    "#### Feature 3: Shape"
   ]
  },
  {
   "cell_type": "code",
   "execution_count": 17,
   "metadata": {},
   "outputs": [
    {
     "data": {
      "text/plain": [
       "Text(0, 0.5, 'Frequency')"
      ]
     },
     "execution_count": 17,
     "metadata": {},
     "output_type": "execute_result"
    },
    {
     "data": {
      "image/png": "[encoded data removed]",
      "text/plain": [
       "<Figure size 1008x576 with 1 Axes>"
      ]
     },
     "metadata": {
      "needs_background": "light"
     },
     "output_type": "display_data"
    }
   ],
   "source": [
    "ax_3 = df_ml['Shape'].value_counts().plot(kind='bar',figsize=(14,8),title=\"Feature 3: Shape\")\n",
    "ax_3.set_xlabel(\"mass shape\")\n",
    "ax_3.set_ylabel(\"Frequency\")"
   ]
  },
  {
   "cell_type": "code",
   "execution_count": 18,
   "metadata": {},
   "outputs": [
    {
     "data": {
      "text/plain": [
       "irregular    331\n",
       "round        191\n",
       "oval         176\n",
       "lobular       70\n",
       "Name: Shape, dtype: int64"
      ]
     },
     "execution_count": 18,
     "metadata": {},
     "output_type": "execute_result"
    }
   ],
   "source": [
    "ax_3 = df_ml['Shape'].value_counts()\n",
    "ax_3"
   ]
  },
  {
   "cell_type": "code",
   "execution_count": 19,
   "metadata": {},
   "outputs": [
    {
     "name": "stderr",
     "output_type": "stream",
     "text": [
      "<ipython-input-19-7509c5bfa49f>:1: SettingWithCopyWarning: \n",
      "A value is trying to be set on a copy of a slice from a DataFrame.\n",
      "Try using .loc[row_indexer,col_indexer] = value instead\n",
      "\n",
      "See the caveats in the documentation: https://pandas.pydata.org/pandas-docs/stable/user_guide/indexing.html#returning-a-view-versus-a-copy\n",
      "  df_ml['Shape']= df_ml['Shape'].fillna( method ='ffill')\n"
     ]
    }
   ],
   "source": [
    "df_ml['Shape']= df_ml['Shape'].fillna( method ='ffill')"
   ]
  },
  {
   "cell_type": "code",
   "execution_count": 20,
   "metadata": {},
   "outputs": [
    {
     "data": {
      "text/plain": [
       "irregular    340\n",
       "round        200\n",
       "oval         185\n",
       "lobular       72\n",
       "Name: Shape, dtype: int64"
      ]
     },
     "execution_count": 20,
     "metadata": {},
     "output_type": "execute_result"
    }
   ],
   "source": [
    "ax_3 = df_ml['Shape'].value_counts()\n",
    "ax_3"
   ]
  },
  {
   "cell_type": "code",
   "execution_count": 21,
   "metadata": {},
   "outputs": [
    {
     "data": {
      "text/plain": [
       "Text(0, 0.5, 'Frequency')"
      ]
     },
     "execution_count": 21,
     "metadata": {},
     "output_type": "execute_result"
    },
    {
     "data": {
      "image/png": "[encoded data removed]",
      "text/plain": [
       "<Figure size 1008x576 with 1 Axes>"
      ]
     },
     "metadata": {
      "needs_background": "light"
     },
     "output_type": "display_data"
    }
   ],
   "source": [
    "ax_3 = df_ml['Shape'].value_counts().plot(kind='kde',figsize=(14,8),title=\"Feature 1 :  BI_RADS\")\n",
    "ax_3.set_xlabel(\"BI_RADS\")\n",
    "ax_3.set_ylabel(\"Frequency\")"
   ]
  },
  {
   "cell_type": "markdown",
   "metadata": {},
   "source": [
    "#### Feature 4: Margin"
   ]
  },
  {
   "cell_type": "code",
   "execution_count": 22,
   "metadata": {},
   "outputs": [
    {
     "data": {
      "text/plain": [
       "Text(0, 0.5, 'Frequency')"
      ]
     },
     "execution_count": 22,
     "metadata": {},
     "output_type": "execute_result"
    },
    {
     "data": {
      "image/png": "[encoded data removed]",
      "text/plain": [
       "<Figure size 1008x576 with 1 Axes>"
      ]
     },
     "metadata": {
      "needs_background": "light"
     },
     "output_type": "display_data"
    }
   ],
   "source": [
    "ax_4 = df_ml['Margin'].value_counts().plot(kind='bar',figsize=(14,8),title=\"Feature 4: Margin\")\n",
    "ax_4.set_xlabel(\"Margin\")\n",
    "ax_4.set_ylabel(\"Frequency\")"
   ]
  },
  {
   "cell_type": "code",
   "execution_count": 23,
   "metadata": {},
   "outputs": [
    {
     "data": {
      "text/plain": [
       "circumscribed     296\n",
       "ill-defined       232\n",
       "spiculated        113\n",
       "obscured           94\n",
       "microlobulated     17\n",
       "Name: Margin, dtype: int64"
      ]
     },
     "execution_count": 23,
     "metadata": {},
     "output_type": "execute_result"
    }
   ],
   "source": [
    "ax_4 = df_ml['Margin'].value_counts()\n",
    "ax_4"
   ]
  },
  {
   "cell_type": "code",
   "execution_count": 24,
   "metadata": {},
   "outputs": [
    {
     "name": "stderr",
     "output_type": "stream",
     "text": [
      "<ipython-input-24-e7b15aad6a75>:1: SettingWithCopyWarning: \n",
      "A value is trying to be set on a copy of a slice from a DataFrame.\n",
      "Try using .loc[row_indexer,col_indexer] = value instead\n",
      "\n",
      "See the caveats in the documentation: https://pandas.pydata.org/pandas-docs/stable/user_guide/indexing.html#returning-a-view-versus-a-copy\n",
      "  df_ml['Margin']= df_ml['Margin'].fillna( method ='ffill')\n"
     ]
    }
   ],
   "source": [
    "df_ml['Margin']= df_ml['Margin'].fillna( method ='ffill')\n"
   ]
  },
  {
   "cell_type": "code",
   "execution_count": 25,
   "metadata": {},
   "outputs": [
    {
     "data": {
      "text/plain": [
       "circumscribed     316\n",
       "ill-defined       248\n",
       "spiculated        118\n",
       "obscured           96\n",
       "microlobulated     19\n",
       "Name: Margin, dtype: int64"
      ]
     },
     "execution_count": 25,
     "metadata": {},
     "output_type": "execute_result"
    }
   ],
   "source": [
    "ax_4 = df_ml['Margin'].value_counts()\n",
    "ax_4"
   ]
  },
  {
   "cell_type": "code",
   "execution_count": 26,
   "metadata": {},
   "outputs": [
    {
     "data": {
      "text/plain": [
       "Text(0, 0.5, 'Frequency')"
      ]
     },
     "execution_count": 26,
     "metadata": {},
     "output_type": "execute_result"
    },
    {
     "data": {
      "image/png": "[encoded data removed]",
      "text/plain": [
       "<Figure size 1008x576 with 1 Axes>"
      ]
     },
     "metadata": {
      "needs_background": "light"
     },
     "output_type": "display_data"
    }
   ],
   "source": [
    "ax_4 = df_ml['Margin'].value_counts().plot(kind='kde',figsize=(14,8),title=\"Feature 1 :  BI_RADS\")\n",
    "ax_4.set_xlabel(\"BI_RADS\")\n",
    "ax_4.set_ylabel(\"Frequency\")"
   ]
  },
  {
   "cell_type": "markdown",
   "metadata": {},
   "source": [
    "#### Feature 5: Mass_Density"
   ]
  },
  {
   "cell_type": "code",
   "execution_count": 27,
   "metadata": {},
   "outputs": [
    {
     "data": {
      "text/plain": [
       "Text(0, 0.5, 'Frequency')"
      ]
     },
     "execution_count": 27,
     "metadata": {},
     "output_type": "execute_result"
    },
    {
     "data": {
      "image/png": "[encoded data removed]",
      "text/plain": [
       "<Figure size 1008x576 with 1 Axes>"
      ]
     },
     "metadata": {
      "needs_background": "light"
     },
     "output_type": "display_data"
    }
   ],
   "source": [
    "ax_5 = df_ml['Mass_Density'].value_counts().plot(kind='bar',figsize=(14,8),title=\"Feature 5: Mass_Density\")\n",
    "ax_5.set_xlabel(\"Mass_Density\")\n",
    "ax_5.set_ylabel(\"Frequency\")"
   ]
  },
  {
   "cell_type": "code",
   "execution_count": 28,
   "metadata": {},
   "outputs": [
    {
     "data": {
      "text/plain": [
       "low               650\n",
       "iso                49\n",
       "high               12\n",
       "fat-containing     10\n",
       "Name: Mass_Density, dtype: int64"
      ]
     },
     "execution_count": 28,
     "metadata": {},
     "output_type": "execute_result"
    }
   ],
   "source": [
    "ax_5 = df_ml['Mass_Density'].value_counts()\n",
    "ax_5"
   ]
  },
  {
   "cell_type": "code",
   "execution_count": 29,
   "metadata": {},
   "outputs": [
    {
     "name": "stderr",
     "output_type": "stream",
     "text": [
      "<ipython-input-29-aa461de1b7f2>:1: SettingWithCopyWarning: \n",
      "A value is trying to be set on a copy of a slice from a DataFrame.\n",
      "Try using .loc[row_indexer,col_indexer] = value instead\n",
      "\n",
      "See the caveats in the documentation: https://pandas.pydata.org/pandas-docs/stable/user_guide/indexing.html#returning-a-view-versus-a-copy\n",
      "  df_ml['Mass_Density']= df_ml['Mass_Density'].fillna( method ='ffill')\n"
     ]
    }
   ],
   "source": [
    "df_ml['Mass_Density']= df_ml['Mass_Density'].fillna( method ='ffill')"
   ]
  },
  {
   "cell_type": "code",
   "execution_count": 30,
   "metadata": {},
   "outputs": [
    {
     "data": {
      "text/plain": [
       "low               710\n",
       "iso                59\n",
       "high               18\n",
       "fat-containing     10\n",
       "Name: Mass_Density, dtype: int64"
      ]
     },
     "execution_count": 30,
     "metadata": {},
     "output_type": "execute_result"
    }
   ],
   "source": [
    "ax_5 = df_ml['Mass_Density'].value_counts()\n",
    "ax_5"
   ]
  },
  {
   "cell_type": "markdown",
   "metadata": {},
   "source": [
    "#### Output : Severity"
   ]
  },
  {
   "cell_type": "code",
   "execution_count": 31,
   "metadata": {},
   "outputs": [
    {
     "data": {
      "text/plain": [
       "Text(0, 0.5, 'Frequency')"
      ]
     },
     "execution_count": 31,
     "metadata": {},
     "output_type": "execute_result"
    },
    {
     "data": {
      "image/png": "[encoded data removed]",
      "text/plain": [
       "<Figure size 1008x576 with 1 Axes>"
      ]
     },
     "metadata": {
      "needs_background": "light"
     },
     "output_type": "display_data"
    }
   ],
   "source": [
    "ax = df_ml['Severity'].value_counts().plot(kind='bar',figsize=(14,8),title=\"Output : Severity\")\n",
    "ax.set_xlabel(\"Severity\")\n",
    "ax.set_ylabel(\"Frequency\")"
   ]
  },
  {
   "cell_type": "code",
   "execution_count": 32,
   "metadata": {},
   "outputs": [
    {
     "data": {
      "text/plain": [
       "0    433\n",
       "1    364\n",
       "Name: Severity, dtype: int64"
      ]
     },
     "execution_count": 32,
     "metadata": {},
     "output_type": "execute_result"
    }
   ],
   "source": [
    "ax_6 = df_ml['Severity'].value_counts()\n",
    "ax_6"
   ]
  },
  {
   "cell_type": "code",
   "execution_count": 33,
   "metadata": {},
   "outputs": [
    {
     "data": {
      "text/html": [
       "<div>\n",
       "<style scoped>\n",
       "    .dataframe tbody tr th:only-of-type {\n",
       "        vertical-align: middle;\n",
       "    }\n",
       "\n",
       "    .dataframe tbody tr th {\n",
       "        vertical-align: top;\n",
       "    }\n",
       "\n",
       "    .dataframe thead th {\n",
       "        text-align: right;\n",
       "    }\n",
       "</style>\n",
       "<table border=\"1\" class=\"dataframe\">\n",
       "  <thead>\n",
       "    <tr style=\"text-align: right;\">\n",
       "      <th></th>\n",
       "      <th>Index</th>\n",
       "      <th>BI_RADS</th>\n",
       "      <th>Age</th>\n",
       "      <th>Shape</th>\n",
       "      <th>Margin</th>\n",
       "      <th>Mass_Density</th>\n",
       "      <th>Severity</th>\n",
       "    </tr>\n",
       "  </thead>\n",
       "  <tbody>\n",
       "    <tr>\n",
       "      <th>0</th>\n",
       "      <td>1</td>\n",
       "      <td>5.0</td>\n",
       "      <td>Senior_Citizen</td>\n",
       "      <td>lobular</td>\n",
       "      <td>spiculated</td>\n",
       "      <td>low</td>\n",
       "      <td>1</td>\n",
       "    </tr>\n",
       "    <tr>\n",
       "      <th>1</th>\n",
       "      <td>2</td>\n",
       "      <td>4.0</td>\n",
       "      <td>Adult</td>\n",
       "      <td>round</td>\n",
       "      <td>circumscribed</td>\n",
       "      <td>low</td>\n",
       "      <td>1</td>\n",
       "    </tr>\n",
       "    <tr>\n",
       "      <th>2</th>\n",
       "      <td>3</td>\n",
       "      <td>5.0</td>\n",
       "      <td>Older_adult</td>\n",
       "      <td>irregular</td>\n",
       "      <td>spiculated</td>\n",
       "      <td>low</td>\n",
       "      <td>1</td>\n",
       "    </tr>\n",
       "    <tr>\n",
       "      <th>3</th>\n",
       "      <td>4</td>\n",
       "      <td>4.0</td>\n",
       "      <td>Youth</td>\n",
       "      <td>round</td>\n",
       "      <td>circumscribed</td>\n",
       "      <td>low</td>\n",
       "      <td>0</td>\n",
       "    </tr>\n",
       "    <tr>\n",
       "      <th>4</th>\n",
       "      <td>5</td>\n",
       "      <td>5.0</td>\n",
       "      <td>Senior_Citizen</td>\n",
       "      <td>round</td>\n",
       "      <td>spiculated</td>\n",
       "      <td>low</td>\n",
       "      <td>1</td>\n",
       "    </tr>\n",
       "    <tr>\n",
       "      <th>...</th>\n",
       "      <td>...</td>\n",
       "      <td>...</td>\n",
       "      <td>...</td>\n",
       "      <td>...</td>\n",
       "      <td>...</td>\n",
       "      <td>...</td>\n",
       "      <td>...</td>\n",
       "    </tr>\n",
       "    <tr>\n",
       "      <th>806</th>\n",
       "      <td>807</td>\n",
       "      <td>5.0</td>\n",
       "      <td>Older_adult</td>\n",
       "      <td>irregular</td>\n",
       "      <td>ill-defined</td>\n",
       "      <td>iso</td>\n",
       "      <td>1</td>\n",
       "    </tr>\n",
       "    <tr>\n",
       "      <th>807</th>\n",
       "      <td>808</td>\n",
       "      <td>4.0</td>\n",
       "      <td>Older_adult</td>\n",
       "      <td>oval</td>\n",
       "      <td>circumscribed</td>\n",
       "      <td>low</td>\n",
       "      <td>0</td>\n",
       "    </tr>\n",
       "    <tr>\n",
       "      <th>808</th>\n",
       "      <td>809</td>\n",
       "      <td>5.0</td>\n",
       "      <td>Older_adult</td>\n",
       "      <td>irregular</td>\n",
       "      <td>ill-defined</td>\n",
       "      <td>low</td>\n",
       "      <td>1</td>\n",
       "    </tr>\n",
       "    <tr>\n",
       "      <th>809</th>\n",
       "      <td>810</td>\n",
       "      <td>4.0</td>\n",
       "      <td>Older_adult</td>\n",
       "      <td>round</td>\n",
       "      <td>ill-defined</td>\n",
       "      <td>low</td>\n",
       "      <td>0</td>\n",
       "    </tr>\n",
       "    <tr>\n",
       "      <th>810</th>\n",
       "      <td>811</td>\n",
       "      <td>5.0</td>\n",
       "      <td>Senior_Citizen</td>\n",
       "      <td>irregular</td>\n",
       "      <td>spiculated</td>\n",
       "      <td>low</td>\n",
       "      <td>1</td>\n",
       "    </tr>\n",
       "  </tbody>\n",
       "</table>\n",
       "<p>797 rows × 7 columns</p>\n",
       "</div>"
      ],
      "text/plain": [
       "     Index  BI_RADS             Age      Shape         Margin Mass_Density  \\\n",
       "0        1      5.0  Senior_Citizen    lobular     spiculated          low   \n",
       "1        2      4.0           Adult      round  circumscribed          low   \n",
       "2        3      5.0     Older_adult  irregular     spiculated          low   \n",
       "3        4      4.0           Youth      round  circumscribed          low   \n",
       "4        5      5.0  Senior_Citizen      round     spiculated          low   \n",
       "..     ...      ...             ...        ...            ...          ...   \n",
       "806    807      5.0     Older_adult  irregular    ill-defined          iso   \n",
       "807    808      4.0     Older_adult       oval  circumscribed          low   \n",
       "808    809      5.0     Older_adult  irregular    ill-defined          low   \n",
       "809    810      4.0     Older_adult      round    ill-defined          low   \n",
       "810    811      5.0  Senior_Citizen  irregular     spiculated          low   \n",
       "\n",
       "     Severity  \n",
       "0           1  \n",
       "1           1  \n",
       "2           1  \n",
       "3           0  \n",
       "4           1  \n",
       "..        ...  \n",
       "806         1  \n",
       "807         0  \n",
       "808         1  \n",
       "809         0  \n",
       "810         1  \n",
       "\n",
       "[797 rows x 7 columns]"
      ]
     },
     "execution_count": 33,
     "metadata": {},
     "output_type": "execute_result"
    }
   ],
   "source": [
    "df_ml"
   ]
  },
  {
   "cell_type": "code",
   "execution_count": 34,
   "metadata": {},
   "outputs": [
    {
     "name": "stdout",
     "output_type": "stream",
     "text": [
      "                 Index   BI_RADS       Age     Shape    Margin  Mass_Density  \\\n",
      "Index         1.000000 -0.009920 -0.043311  0.047199 -0.018588      0.176336   \n",
      "BI_RADS      -0.009920  1.000000  0.317843  0.481145  0.496282      0.072588   \n",
      "Age          -0.043311  0.317843  1.000000  0.314589  0.347058      0.063070   \n",
      "Shape         0.047199  0.481145  0.314589  1.000000  0.675063      0.073564   \n",
      "Margin       -0.018588  0.496282  0.347058  0.675063  1.000000      0.053359   \n",
      "Mass_Density  0.176336  0.072588  0.063070  0.073564  0.053359      1.000000   \n",
      "Severity      0.032489  0.597486  0.371037  0.544922  0.543836      0.079371   \n",
      "\n",
      "              Severity  \n",
      "Index         0.032489  \n",
      "BI_RADS       0.597486  \n",
      "Age           0.371037  \n",
      "Shape         0.544922  \n",
      "Margin        0.543836  \n",
      "Mass_Density  0.079371  \n",
      "Severity      1.000000  \n"
     ]
    },
    {
     "data": {
      "image/png": "[encoded data removed]",
      "text/plain": [
       "<Figure size 432x288 with 2 Axes>"
      ]
     },
     "metadata": {
      "needs_background": "light"
     },
     "output_type": "display_data"
    }
   ],
   "source": [
    "df_ml_2 = copy.deepcopy(df_ml)\n",
    " \n",
    "w = {'Youth':1, 'Younger_adult':2, 'Adult':3,'Older_adult':4, 'Senior_Citizen':5}\n",
    "x = {'high':1, 'iso':2, 'low':3,'fat-containing':4}\n",
    "y = {'round':1, 'oval':2,'lobular':3,'irregular':4}\n",
    "z = {'circumscribed':1,'microlobulated':2, 'obscured':3,'ill-defined':4, 'spiculated':5}\n",
    "df_ml_2['Age'], df_ml_2['Mass_Density'], df_ml_2['Shape'], df_ml_2['Margin'] = df_ml_2['Age'].map(w), df_ml_2['Mass_Density'].map(x), df_ml_2['Shape'].map(y), df_ml_2['Margin'].map(z)\n",
    "\n",
    "# prints data that will be plotted\n",
    "# columns shown here are selected by corr() since\n",
    "# they are ideal for the plot\n",
    "print(df_ml_2.corr())\n",
    "  \n",
    "# plotting correlation heatmap\n",
    "dataplot = sns.heatmap(df_ml_2.corr(), cmap=\"YlGnBu\", annot=True)\n",
    "  \n",
    "# displaying heatmap\n",
    "plt.show()\n",
    "\n"
   ]
  },
  {
   "cell_type": "code",
   "execution_count": 35,
   "metadata": {},
   "outputs": [
    {
     "name": "stdout",
     "output_type": "stream",
     "text": [
      "[1]\n",
      "[0.85       0.8625     0.875      0.8125     0.825      0.8375\n",
      " 0.8625     0.81012658 0.82278481 0.86075949]\n",
      "Accuracy: 0.842 (0.022)\n",
      "Testing Accuracy of the model is 0.842.\n"
     ]
    }
   ],
   "source": [
    "\n",
    "\n",
    "X = df_ml_2.iloc[:,1:6].to_numpy()\n",
    "\n",
    "y = df_ml_2['Severity'].to_numpy()\n",
    "\n",
    "# prepare the cross-validation procedure\n",
    "cv = KFold(n_splits=10, random_state=115, shuffle=True)\n",
    "# create model\n",
    "model = RandomForestClassifier(max_depth=3,random_state=115)\n",
    "model.fit(X, y)\n",
    "\n",
    "print(model.predict([[5.0,20.0,1,1,3]]))\n",
    "# evaluate model\n",
    "scores = cross_val_score(model, X, y, scoring='accuracy', cv=cv, n_jobs=-1)\n",
    "# report performance\n",
    "print(scores)\n",
    "print('Accuracy: %.3f (%.3f)' % (scores.mean(), scores.std()))\n",
    "print(\"Testing Accuracy of the model is {0:.3f}.\".format(scores.mean()))"
   ]
  },
  {
   "cell_type": "markdown",
   "metadata": {},
   "source": [
    "#### Testing Function"
   ]
  },
  {
   "cell_type": "code",
   "execution_count": 52,
   "metadata": {},
   "outputs": [],
   "source": [
    "def model_testing(TESTING_PATH):\n",
    "    df_test = pd.read_excel(TESTING_PATH)\n",
    "    df_test_1 = df_test.fillna( method ='ffill')\n",
    "    df_test_1['Age'] = df_test_1['Age'].apply(lambda x: 'Youth' if x<=30 else ('Senior_Citizen' if x > 65 else ('Younger_adult' if x > 30 and x <= 40 else ('Adult' if x > 40 and x <= 50 else 'Older_adult'))))\n",
    "    w = {'Youth':1, 'Younger_adult':2, 'Adult':3,'Older_adult':4, 'Senior_Citizen':5}\n",
    "    x = {'high':1, 'iso':2, 'low':3,'fat-containing':4}\n",
    "    y = {'round':1, 'oval':2,'lobular':3,'irregular':4}\n",
    "    z = {'circumscribed':1,'microlobulated':2, 'obscured':3,'ill-defined':4, 'spiculated':5}\n",
    "    df_test_1['Age'], df_test_1['Mass_Density'], df_test_1['Shape'], df_test_1['Margin'] = df_test_1['Age'].map(w), df_test_1['Mass_Density'].map(x), df_test_1['Shape'].map(y), df_test_1['Margin'].map(z)\n",
    "    df_test_1 = df_test_1.iloc[:,1:6].to_numpy()\n",
    "    testing = []\n",
    "\n",
    "    correct_scores = 0\n",
    "    for i in range(len(df_test_1)):\n",
    "        test = df_test_1[i]\n",
    "#         print(test)\n",
    "#         print(model.predict([test]))\n",
    "        testing.append(model.predict([test])[0])\n",
    "    \n",
    "\n",
    "    for i in range(len(testing)):\n",
    "#         print(testing[i],df_test.iloc[:,6].to_numpy()[i])\n",
    "        if testing[i] == df_test.iloc[:,6].to_numpy()[i]:\n",
    "            correct_scores += 1\n",
    "    Test_accuracy = correct_scores/len(testing) \n",
    "    print(correct_scores,len(testing),Test_accuracy)\n",
    "    return \"Testing Accuracy of the model is {0:.2f}%.\".format(Test_accuracy*100)"
   ]
  },
  {
   "cell_type": "code",
   "execution_count": 53,
   "metadata": {},
   "outputs": [
    {
     "name": "stdout",
     "output_type": "stream",
     "text": [
      "126 150 0.84\n",
      "Testing Accuracy of the model is 84.00%.\n"
     ]
    }
   ],
   "source": [
    "print(model_testing(TESTING_PATH))"
   ]
  },
  {
   "cell_type": "markdown",
   "metadata": {},
   "source": [
    "What considerations have been used for model selection?\n",
    "1. Random Forest is a classification model which handles missing values quite well and easily distributed into based on the entropy. \n",
    "\n",
    "\n",
    "\n",
    "What features would you want to create for your prediction model based on data provided?\n",
    "1. Created Age as an categorical feature, as their is a clear distribution of Age to Severity, and Categorical distribution is been setup for model understanding.\n",
    "\n",
    "\n",
    "How have you performed hyper-parameter tuning and model optimization? What are the reasons for your decision choices for these steps?\n",
    "1. Selecting the different depth of tress, finally moving with proven 'n-2' depth approach which works well in this case too. AMpart from this went with model comparision with model model accuracy and finally selecting the best accuracy model.\n",
    "\n",
    "\n",
    "\n",
    "What is your model evaluation criteria? What are the assumptions and limitations of your approach?\n",
    "1. Went with Accuracy evaluation criteria, which is an all time favariote metric. Yes, it does have some limitations as it just focus on the correct output and working on the worng predictions is not taken care off. \n",
    "\n",
    "\n",
    "How are you detecting and treating outliers in the dataset for better convergence?\n",
    "1. Here, the data is very clear and did not any special plot to identify the outliers from the data. Bar plot and value_counts did the work in this case.\n",
    "\n",
    "What techniques have been used for treating missing values to prepare features for model building?\n",
    "1. Missing values is always very concering thing in the EDA part but as the data is quite normal form thus we went with very intiall step of forward filling of the data."
   ]
  },
  {
   "cell_type": "code",
   "execution_count": null,
   "metadata": {},
   "outputs": [],
   "source": []
  }
 ],
 "metadata": {
  "kernelspec": {
   "display_name": "Python 3",
   "language": "python",
   "name": "python3"
  },
  "language_info": {
   "codemirror_mode": {
    "name": "ipython",
    "version": 3
   },
   "file_extension": ".py",
   "mimetype": "text/x-python",
   "name": "python",
   "nbconvert_exporter": "python",
   "pygments_lexer": "ipython3",
   "version": "3.8.3"
  }
 },
 "nbformat": 4,
 "nbformat_minor": 4
}
